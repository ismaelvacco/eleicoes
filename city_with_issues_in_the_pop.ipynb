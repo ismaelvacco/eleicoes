{
  "nbformat": 4,
  "nbformat_minor": 0,
  "metadata": {
    "colab": {
      "provenance": [],
      "collapsed_sections": [],
      "authorship_tag": "ABX9TyPii+dXx3taOtVLX2s8qUU5",
      "include_colab_link": true
    },
    "kernelspec": {
      "name": "python3",
      "display_name": "Python 3"
    },
    "language_info": {
      "name": "python"
    }
  },
  "cells": [
    {
      "cell_type": "markdown",
      "metadata": {
        "id": "view-in-github",
        "colab_type": "text"
      },
      "source": [
        "<a href=\"https://colab.research.google.com/github/ismaelvacco/eleicoes/blob/main/city_with_issues_in_the_pop.ipynb\" target=\"_parent\"><img src=\"https://colab.research.google.com/assets/colab-badge.svg\" alt=\"Open In Colab\"/></a>"
      ]
    },
    {
      "cell_type": "code",
      "execution_count": null,
      "metadata": {
        "colab": {
          "base_uri": "https://localhost:8080/"
        },
        "id": "dLYS6eVDpNhM",
        "outputId": "4954d7ec-b4ce-4c0f-9b40-19c660ae907b"
      },
      "outputs": [
        {
          "output_type": "stream",
          "name": "stdout",
          "text": [
            "Looking in indexes: https://pypi.org/simple, https://us-python.pkg.dev/colab-wheels/public/simple/\n",
            "Collecting pyspark\n",
            "  Downloading pyspark-3.3.0.tar.gz (281.3 MB)\n",
            "\u001b[K     |████████████████████████████████| 281.3 MB 47 kB/s \n",
            "\u001b[?25hCollecting py4j==0.10.9.5\n",
            "  Downloading py4j-0.10.9.5-py2.py3-none-any.whl (199 kB)\n",
            "\u001b[K     |████████████████████████████████| 199 kB 51.2 MB/s \n",
            "\u001b[?25hBuilding wheels for collected packages: pyspark\n",
            "  Building wheel for pyspark (setup.py) ... \u001b[?25l\u001b[?25hdone\n",
            "  Created wheel for pyspark: filename=pyspark-3.3.0-py2.py3-none-any.whl size=281764026 sha256=6f2feb91e31fc2fba8e414ce8531f34cc7fa40e241a7a38151f38459663dceff\n",
            "  Stored in directory: /root/.cache/pip/wheels/7a/8e/1b/f73a52650d2e5f337708d9f6a1750d451a7349a867f928b885\n",
            "Successfully built pyspark\n",
            "Installing collected packages: py4j, pyspark\n",
            "Successfully installed py4j-0.10.9.5 pyspark-3.3.0\n"
          ]
        }
      ],
      "source": [
        "!pip install pyspark"
      ]
    },
    {
      "cell_type": "code",
      "source": [
        "from pyspark.sql import SparkSession\n",
        "from pyspark.sql.functions import *\n",
        "from pyspark.sql.window import Window\n",
        "import pandas as pd\n",
        "import numpy as np\n",
        "import string\n",
        "import seaborn as sns\n",
        "\n",
        "from matplotlib import pyplot as plt\n",
        "from google.colab import drive\n"
      ],
      "metadata": {
        "id": "n7m3ojXspmOo"
      },
      "execution_count": null,
      "outputs": []
    },
    {
      "cell_type": "code",
      "source": [
        "spark = SparkSession.builder.appName(\"VotosEUrnas\").getOrCreate()\n",
        "\n",
        "pd.options.display.html.table_schema=True\n",
        "path = \"/content/drive\"\n",
        "drive.mount(path)\n",
        "votacao = spark.read.parquet(path + \"/MyDrive/vc\")\n",
        "\n",
        "accent_replacements_spanish = [\n",
        "    (u'á', 'a'), (u'Á', 'A'),\n",
        "    (u'â', 'a'), (u'Â', 'A'),\n",
        "    (u'ã', 'a'), (u'Ã', 'A'),\n",
        "    (u'é', 'e'), (u'É', 'E'),\n",
        "    (u'ê', 'e'), (u'Ê', 'E'),\n",
        "    (u'í', 'i'), (u'Í', 'I'),\n",
        "    (u'ò', 'o'), (u'Ó', 'O'),\n",
        "    (u'ô', 'o'), (u'Ô', 'O'),\n",
        "    (u'õ', 'o'), (u'Õ', 'O'),\n",
        "    (u'ú|ü', 'u'), (u'Ú|Ű', 'U'),\n",
        "    (u'ñ', 'n'),\n",
        "    (u'ç', 'c'), (u'Ç', 'C'),\n",
        "    # see http://stackoverflow.com/a/18123985/3810493 for other characters\n",
        "\n",
        "    # this will convert other non ASCII characters to a question mark:\n",
        "    ('[^\\x00-\\x7F]', '?') \n",
        "]\n",
        "\n",
        "def remove_accents(column):\n",
        "    r = col(column)\n",
        "    for a, b in accent_replacements_spanish:\n",
        "        r = regexp_replace(r, a, b)\n",
        "    return r\n",
        "\n",
        "votacao = votacao.withColumn('city_no_accents', remove_accents('cidade'))\n",
        "votacao.createOrReplaceTempView(\"vc\")\n",
        "\n",
        "municipios = spark.read.csv(path + \"/MyDrive/municipios\", header=True)\n",
        "municipios.createOrReplaceTempView(\"municipios\")"
      ],
      "metadata": {
        "colab": {
          "base_uri": "https://localhost:8080/"
        },
        "id": "J0w4z4foqIvV",
        "outputId": "f273549a-f566-4c61-99bb-510346b55dca"
      },
      "execution_count": null,
      "outputs": [
        {
          "output_type": "stream",
          "name": "stdout",
          "text": [
            "Drive already mounted at /content/drive; to attempt to forcibly remount, call drive.mount(\"/content/drive\", force_remount=True).\n"
          ]
        }
      ]
    },
    {
      "cell_type": "code",
      "source": [
        "votacao.printSchema()"
      ],
      "metadata": {
        "colab": {
          "base_uri": "https://localhost:8080/"
        },
        "id": "Qky1iJPPr1wS",
        "outputId": "0f3a3552-e0f8-49c8-e4bf-86ff00c5112e"
      },
      "execution_count": null,
      "outputs": [
        {
          "output_type": "stream",
          "name": "stdout",
          "text": [
            "root\n",
            " |-- bolsonaro: integer (nullable = true)\n",
            " |-- lula: integer (nullable = true)\n",
            " |-- tebet: integer (nullable = true)\n",
            " |-- ciro: integer (nullable = true)\n",
            " |-- soraya: integer (nullable = true)\n",
            " |-- davila: integer (nullable = true)\n",
            " |-- kelmon: integer (nullable = true)\n",
            " |-- pericles: integer (nullable = true)\n",
            " |-- sofia: integer (nullable = true)\n",
            " |-- vera: integer (nullable = true)\n",
            " |-- eymael: integer (nullable = true)\n",
            " |-- brancos: integer (nullable = true)\n",
            " |-- nulos: integer (nullable = true)\n",
            " |-- cidade: string (nullable = true)\n",
            " |-- uf: string (nullable = true)\n",
            " |-- zona: integer (nullable = true)\n",
            " |-- secao: integer (nullable = true)\n",
            " |-- local_votacao: integer (nullable = true)\n",
            " |-- urna_id1: integer (nullable = true)\n",
            " |-- urna_id2: integer (nullable = true)\n",
            " |-- tipo_urna1: string (nullable = true)\n",
            " |-- tipo_urna2: string (nullable = true)\n",
            " |-- data_geracao: string (nullable = true)\n",
            " |-- hora_geracao: string (nullable = true)\n",
            " |-- data_abertura: string (nullable = true)\n",
            " |-- data_encerramento: string (nullable = true)\n",
            " |-- aptos: integer (nullable = true)\n",
            " |-- comparecimento: integer (nullable = true)\n",
            " |-- abstencoes: integer (nullable = true)\n",
            " |-- data_carga_urna: string (nullable = true)\n",
            " |-- data_bu_recebido: string (nullable = true)\n",
            " |-- regiao: string (nullable = true)\n",
            " |-- nao_habilitados_biometria: integer (nullable = true)\n",
            " |-- secao_agregadas: string (nullable = true)\n",
            " |-- carga_1_urna: string (nullable = true)\n",
            " |-- carga_2_urna: string (nullable = true)\n",
            " |-- flashcard_urna: string (nullable = true)\n",
            " |-- data_emissao_bu: string (nullable = true)\n",
            " |-- junta_id: integer (nullable = true)\n",
            " |-- turma_id: integer (nullable = true)\n",
            " |-- urna: string (nullable = true)\n",
            " |-- data_bu: timestamp (nullable = true)\n",
            " |-- T_FIMBU_MIN: integer (nullable = true)\n",
            " |-- T_VOTO_SEG: integer (nullable = true)\n",
            " |-- T_FXVOTO: string (nullable = true)\n",
            " |-- T_FXFIMBU: string (nullable = true)\n",
            " |-- T_BU_5MIN: integer (nullable = true)\n",
            " |-- LOG_MODELO: integer (nullable = true)\n",
            " |-- LOG_AUDITAVEL: integer (nullable = true)\n",
            " |-- LOG_FG2020: string (nullable = true)\n",
            " |-- LOG_FGSOLICITA: integer (nullable = true)\n",
            " |-- LOG_NOMEARQLOG: string (nullable = true)\n",
            " |-- P_ESQ: integer (nullable = true)\n",
            " |-- P_DIR: integer (nullable = true)\n",
            " |-- P_INV: integer (nullable = true)\n",
            " |-- P_VAL: integer (nullable = true)\n",
            " |-- P_TOT: integer (nullable = true)\n",
            " |-- P_MITOVAL: float (nullable = true)\n",
            " |-- G_ESQ: integer (nullable = true)\n",
            " |-- G_DIR: integer (nullable = true)\n",
            " |-- G_INV: integer (nullable = true)\n",
            " |-- G_VAL: integer (nullable = true)\n",
            " |-- G_TOT: integer (nullable = true)\n",
            " |-- G_DIRVAL: float (nullable = true)\n",
            " |-- S_ESQ: integer (nullable = true)\n",
            " |-- S_DIR: integer (nullable = true)\n",
            " |-- S_INV: integer (nullable = true)\n",
            " |-- S_VAL: integer (nullable = true)\n",
            " |-- S_TOT: integer (nullable = true)\n",
            " |-- S_DIRVAL: float (nullable = true)\n",
            " |-- PG_DIR: integer (nullable = true)\n",
            " |-- PS_DIR: integer (nullable = true)\n",
            " |-- FG_BOLSO0: integer (nullable = true)\n",
            " |-- FG_LULA0: integer (nullable = true)\n",
            " |-- RAZAO_BOLSO_LULA: float (nullable = true)\n",
            " |-- RAZAO_LULA_BOLSO: float (nullable = true)\n",
            " |-- FG_2X_BOLSO_LULA: integer (nullable = true)\n",
            " |-- FG_2X_LULA_BOLSO: integer (nullable = true)\n",
            " |-- FG_4X_BOLSO_LULA: integer (nullable = true)\n",
            " |-- FG_4X_LULA_BOLSO: integer (nullable = true)\n",
            " |-- DIF_LULA_BOLSO: integer (nullable = true)\n",
            " |-- DIF_BOLSO_LULA: integer (nullable = true)\n",
            " |-- correspondencia_esperada: integer (nullable = true)\n",
            " |-- origem_voto: string (nullable = true)\n",
            " |-- divergencia: string (nullable = true)\n",
            " |-- uflat: double (nullable = true)\n",
            " |-- uflon: double (nullable = true)\n",
            " |-- clat: double (nullable = true)\n",
            " |-- clon: double (nullable = true)\n",
            " |-- city_no_accents: string (nullable = true)\n",
            "\n"
          ]
        }
      ]
    },
    {
      "cell_type": "code",
      "source": [
        "# sql = \"SELECT regiao, cidade, count(*) as qty_urnas, sum(abstencoes)/sum(aptos) * 100 as perc_abst FROM vc GROUP BY 1, 2 HAVING count(*) > 100 order by perc_abst desc\"\n",
        "\n",
        "sql = '''\n",
        "  SELECT \n",
        "    cidade, \n",
        "    MAX(A.uf) as uf, \n",
        "    MAX(B.pop_21) as pop, \n",
        "    SUM(A.aptos) as aptos,\n",
        "    ((SUM(A.aptos)/MAX(B.pop_21)) -1) * 100 as error,\n",
        "    CASE WHEN sum(bolsonaro) > sum(lula) THEN 'BOLSONARO' \n",
        "      ELSE 'LULA' END as winner \n",
        "  FROM vc A \n",
        "    JOIN municipios B ON lower(A.city_no_accents)=lower(B.no_accents) and lower(A.uf)=lower(B.uf_code) \n",
        "    GROUP BY cidade HAVING SUM(A.aptos)>(MAX(B.pop_21))'''\n",
        "city_with_issues = spark.sql(sql)\n",
        "city_with_issues.createOrReplaceTempView(\"city_issues\")\n",
        "\n",
        "sql = '''\n",
        "    select cidade, uf, round(error, 1) as error, aptos, pop, winner from city_issues order by error desc\n",
        "'''\n",
        "pdf = spark.sql(sql).toPandas()\n",
        "pdf\n",
        "\n"
      ],
      "metadata": {
        "colab": {
          "base_uri": "https://localhost:8080/",
          "height": 424
        },
        "id": "mpD2uxyMsCEf",
        "outputId": "179fc106-ba30-4e87-a3e6-7c7c25cc7e0d"
      },
      "execution_count": null,
      "outputs": [
        {
          "output_type": "execute_result",
          "data": {
            "text/plain": [
              "                   cidade  uf    error    aptos   pop     winner\n",
              "0                   BELÉM  PB  25559.1  1084354  4226       LULA\n",
              "1            CAMPO GRANDE  MS   6685.1   649745  9576  BOLSONARO\n",
              "2            CACHOEIRINHA  TO   5229.0   122194  2293  BOLSONARO\n",
              "3              RIO BRANCO  MT   5161.1   270789  5147  BOLSONARO\n",
              "4           VÁRZEA GRANDE  PI   4071.0   182772  4382  BOLSONARO\n",
              "..                    ...  ..      ...      ...   ...        ...\n",
              "687  SÃO MIGUEL DO ALEIXO  SE      0.2     3972  3964       LULA\n",
              "688              ITUTINGA  MG      0.1     3752  3749       LULA\n",
              "689    PIEDADE DOS GERAIS  MG      0.1     5040  5034       LULA\n",
              "690          SANTA TEREZA  RS      0.1     1724  1722  BOLSONARO\n",
              "691    SANTANA DOS MONTES  MG      0.1     3757  3753       LULA\n",
              "\n",
              "[692 rows x 6 columns]"
            ],
            "text/html": [
              "\n",
              "  <div id=\"df-4905f933-3917-4e4b-a6b9-899140a83f6c\">\n",
              "    <div class=\"colab-df-container\">\n",
              "      <div>\n",
              "<style scoped>\n",
              "    .dataframe tbody tr th:only-of-type {\n",
              "        vertical-align: middle;\n",
              "    }\n",
              "\n",
              "    .dataframe tbody tr th {\n",
              "        vertical-align: top;\n",
              "    }\n",
              "\n",
              "    .dataframe thead th {\n",
              "        text-align: right;\n",
              "    }\n",
              "</style>\n",
              "<table border=\"1\" class=\"dataframe\">\n",
              "  <thead>\n",
              "    <tr style=\"text-align: right;\">\n",
              "      <th></th>\n",
              "      <th>cidade</th>\n",
              "      <th>uf</th>\n",
              "      <th>error</th>\n",
              "      <th>aptos</th>\n",
              "      <th>pop</th>\n",
              "      <th>winner</th>\n",
              "    </tr>\n",
              "  </thead>\n",
              "  <tbody>\n",
              "    <tr>\n",
              "      <th>0</th>\n",
              "      <td>BELÉM</td>\n",
              "      <td>PB</td>\n",
              "      <td>25559.1</td>\n",
              "      <td>1084354</td>\n",
              "      <td>4226</td>\n",
              "      <td>LULA</td>\n",
              "    </tr>\n",
              "    <tr>\n",
              "      <th>1</th>\n",
              "      <td>CAMPO GRANDE</td>\n",
              "      <td>MS</td>\n",
              "      <td>6685.1</td>\n",
              "      <td>649745</td>\n",
              "      <td>9576</td>\n",
              "      <td>BOLSONARO</td>\n",
              "    </tr>\n",
              "    <tr>\n",
              "      <th>2</th>\n",
              "      <td>CACHOEIRINHA</td>\n",
              "      <td>TO</td>\n",
              "      <td>5229.0</td>\n",
              "      <td>122194</td>\n",
              "      <td>2293</td>\n",
              "      <td>BOLSONARO</td>\n",
              "    </tr>\n",
              "    <tr>\n",
              "      <th>3</th>\n",
              "      <td>RIO BRANCO</td>\n",
              "      <td>MT</td>\n",
              "      <td>5161.1</td>\n",
              "      <td>270789</td>\n",
              "      <td>5147</td>\n",
              "      <td>BOLSONARO</td>\n",
              "    </tr>\n",
              "    <tr>\n",
              "      <th>4</th>\n",
              "      <td>VÁRZEA GRANDE</td>\n",
              "      <td>PI</td>\n",
              "      <td>4071.0</td>\n",
              "      <td>182772</td>\n",
              "      <td>4382</td>\n",
              "      <td>BOLSONARO</td>\n",
              "    </tr>\n",
              "    <tr>\n",
              "      <th>...</th>\n",
              "      <td>...</td>\n",
              "      <td>...</td>\n",
              "      <td>...</td>\n",
              "      <td>...</td>\n",
              "      <td>...</td>\n",
              "      <td>...</td>\n",
              "    </tr>\n",
              "    <tr>\n",
              "      <th>687</th>\n",
              "      <td>SÃO MIGUEL DO ALEIXO</td>\n",
              "      <td>SE</td>\n",
              "      <td>0.2</td>\n",
              "      <td>3972</td>\n",
              "      <td>3964</td>\n",
              "      <td>LULA</td>\n",
              "    </tr>\n",
              "    <tr>\n",
              "      <th>688</th>\n",
              "      <td>ITUTINGA</td>\n",
              "      <td>MG</td>\n",
              "      <td>0.1</td>\n",
              "      <td>3752</td>\n",
              "      <td>3749</td>\n",
              "      <td>LULA</td>\n",
              "    </tr>\n",
              "    <tr>\n",
              "      <th>689</th>\n",
              "      <td>PIEDADE DOS GERAIS</td>\n",
              "      <td>MG</td>\n",
              "      <td>0.1</td>\n",
              "      <td>5040</td>\n",
              "      <td>5034</td>\n",
              "      <td>LULA</td>\n",
              "    </tr>\n",
              "    <tr>\n",
              "      <th>690</th>\n",
              "      <td>SANTA TEREZA</td>\n",
              "      <td>RS</td>\n",
              "      <td>0.1</td>\n",
              "      <td>1724</td>\n",
              "      <td>1722</td>\n",
              "      <td>BOLSONARO</td>\n",
              "    </tr>\n",
              "    <tr>\n",
              "      <th>691</th>\n",
              "      <td>SANTANA DOS MONTES</td>\n",
              "      <td>MG</td>\n",
              "      <td>0.1</td>\n",
              "      <td>3757</td>\n",
              "      <td>3753</td>\n",
              "      <td>LULA</td>\n",
              "    </tr>\n",
              "  </tbody>\n",
              "</table>\n",
              "<p>692 rows × 6 columns</p>\n",
              "</div>\n",
              "      <button class=\"colab-df-convert\" onclick=\"convertToInteractive('df-4905f933-3917-4e4b-a6b9-899140a83f6c')\"\n",
              "              title=\"Convert this dataframe to an interactive table.\"\n",
              "              style=\"display:none;\">\n",
              "        \n",
              "  <svg xmlns=\"http://www.w3.org/2000/svg\" height=\"24px\"viewBox=\"0 0 24 24\"\n",
              "       width=\"24px\">\n",
              "    <path d=\"M0 0h24v24H0V0z\" fill=\"none\"/>\n",
              "    <path d=\"M18.56 5.44l.94 2.06.94-2.06 2.06-.94-2.06-.94-.94-2.06-.94 2.06-2.06.94zm-11 1L8.5 8.5l.94-2.06 2.06-.94-2.06-.94L8.5 2.5l-.94 2.06-2.06.94zm10 10l.94 2.06.94-2.06 2.06-.94-2.06-.94-.94-2.06-.94 2.06-2.06.94z\"/><path d=\"M17.41 7.96l-1.37-1.37c-.4-.4-.92-.59-1.43-.59-.52 0-1.04.2-1.43.59L10.3 9.45l-7.72 7.72c-.78.78-.78 2.05 0 2.83L4 21.41c.39.39.9.59 1.41.59.51 0 1.02-.2 1.41-.59l7.78-7.78 2.81-2.81c.8-.78.8-2.07 0-2.86zM5.41 20L4 18.59l7.72-7.72 1.47 1.35L5.41 20z\"/>\n",
              "  </svg>\n",
              "      </button>\n",
              "      \n",
              "  <style>\n",
              "    .colab-df-container {\n",
              "      display:flex;\n",
              "      flex-wrap:wrap;\n",
              "      gap: 12px;\n",
              "    }\n",
              "\n",
              "    .colab-df-convert {\n",
              "      background-color: #E8F0FE;\n",
              "      border: none;\n",
              "      border-radius: 50%;\n",
              "      cursor: pointer;\n",
              "      display: none;\n",
              "      fill: #1967D2;\n",
              "      height: 32px;\n",
              "      padding: 0 0 0 0;\n",
              "      width: 32px;\n",
              "    }\n",
              "\n",
              "    .colab-df-convert:hover {\n",
              "      background-color: #E2EBFA;\n",
              "      box-shadow: 0px 1px 2px rgba(60, 64, 67, 0.3), 0px 1px 3px 1px rgba(60, 64, 67, 0.15);\n",
              "      fill: #174EA6;\n",
              "    }\n",
              "\n",
              "    [theme=dark] .colab-df-convert {\n",
              "      background-color: #3B4455;\n",
              "      fill: #D2E3FC;\n",
              "    }\n",
              "\n",
              "    [theme=dark] .colab-df-convert:hover {\n",
              "      background-color: #434B5C;\n",
              "      box-shadow: 0px 1px 3px 1px rgba(0, 0, 0, 0.15);\n",
              "      filter: drop-shadow(0px 1px 2px rgba(0, 0, 0, 0.3));\n",
              "      fill: #FFFFFF;\n",
              "    }\n",
              "  </style>\n",
              "\n",
              "      <script>\n",
              "        const buttonEl =\n",
              "          document.querySelector('#df-4905f933-3917-4e4b-a6b9-899140a83f6c button.colab-df-convert');\n",
              "        buttonEl.style.display =\n",
              "          google.colab.kernel.accessAllowed ? 'block' : 'none';\n",
              "\n",
              "        async function convertToInteractive(key) {\n",
              "          const element = document.querySelector('#df-4905f933-3917-4e4b-a6b9-899140a83f6c');\n",
              "          const dataTable =\n",
              "            await google.colab.kernel.invokeFunction('convertToInteractive',\n",
              "                                                     [key], {});\n",
              "          if (!dataTable) return;\n",
              "\n",
              "          const docLinkHtml = 'Like what you see? Visit the ' +\n",
              "            '<a target=\"_blank\" href=https://colab.research.google.com/notebooks/data_table.ipynb>data table notebook</a>'\n",
              "            + ' to learn more about interactive tables.';\n",
              "          element.innerHTML = '';\n",
              "          dataTable['output_type'] = 'display_data';\n",
              "          await google.colab.output.renderOutput(dataTable, element);\n",
              "          const docLink = document.createElement('div');\n",
              "          docLink.innerHTML = docLinkHtml;\n",
              "          element.appendChild(docLink);\n",
              "        }\n",
              "      </script>\n",
              "    </div>\n",
              "  </div>\n",
              "  "
            ],
            "application/vnd.dataresource+json": {
              "schema": {
                "fields": [
                  {
                    "name": "index",
                    "type": "integer"
                  },
                  {
                    "name": "cidade",
                    "type": "string"
                  },
                  {
                    "name": "uf",
                    "type": "string"
                  },
                  {
                    "name": "error",
                    "type": "number"
                  },
                  {
                    "name": "aptos",
                    "type": "integer"
                  },
                  {
                    "name": "pop",
                    "type": "string"
                  },
                  {
                    "name": "winner",
                    "type": "string"
                  }
                ],
                "primaryKey": [
                  "index"
                ],
                "pandas_version": "0.20.0"
              },
              "data": [
                {
                  "index": 0,
                  "cidade": "BELÉM",
                  "uf": "PB",
                  "error": 25559.1,
                  "aptos": 1084354,
                  "pop": "4226",
                  "winner": "LULA"
                },
                {
                  "index": 1,
                  "cidade": "CAMPO GRANDE",
                  "uf": "MS",
                  "error": 6685.1,
                  "aptos": 649745,
                  "pop": "9576",
                  "winner": "BOLSONARO"
                },
                {
                  "index": 2,
                  "cidade": "CACHOEIRINHA",
                  "uf": "TO",
                  "error": 5229,
                  "aptos": 122194,
                  "pop": "2293",
                  "winner": "BOLSONARO"
                },
                {
                  "index": 3,
                  "cidade": "RIO BRANCO",
                  "uf": "MT",
                  "error": 5161.1,
                  "aptos": 270789,
                  "pop": "5147",
                  "winner": "BOLSONARO"
                },
                {
                  "index": 4,
                  "cidade": "VÁRZEA GRANDE",
                  "uf": "PI",
                  "error": 4071,
                  "aptos": 182772,
                  "pop": "4382",
                  "winner": "BOLSONARO"
                },
                {
                  "index": 5,
                  "cidade": "SÃO VICENTE",
                  "uf": "SP",
                  "error": 3980.6,
                  "aptos": 264261,
                  "pop": "6476",
                  "winner": "BOLSONARO"
                },
                {
                  "index": 6,
                  "cidade": "SANTA MARIA",
                  "uf": "RS",
                  "error": 3664.5,
                  "aptos": 214161,
                  "pop": "5689",
                  "winner": "LULA"
                },
                {
                  "index": 7,
                  "cidade": "PRAIA GRANDE",
                  "uf": "SP",
                  "error": 3401.3,
                  "aptos": 255768,
                  "pop": "7305",
                  "winner": "BOLSONARO"
                },
                {
                  "index": 8,
                  "cidade": "BOA VISTA",
                  "uf": "RR",
                  "error": 3211.1,
                  "aptos": 238996,
                  "pop": "7218",
                  "winner": "BOLSONARO"
                },
                {
                  "index": 9,
                  "cidade": "IGUATU",
                  "uf": "PR",
                  "error": 3019.6,
                  "aptos": 70222,
                  "pop": "2251",
                  "winner": "LULA"
                },
                {
                  "index": 10,
                  "cidade": "MESQUITA",
                  "uf": "RJ",
                  "error": 2482,
                  "aptos": 141728,
                  "pop": "5489",
                  "winner": "BOLSONARO"
                },
                {
                  "index": 11,
                  "cidade": "SERTÃOZINHO",
                  "uf": "SP",
                  "error": 1865.6,
                  "aptos": 101268,
                  "pop": "5152",
                  "winner": "BOLSONARO"
                },
                {
                  "index": 12,
                  "cidade": "TOLEDO",
                  "uf": "PR",
                  "error": 1652.8,
                  "aptos": 111057,
                  "pop": "6336",
                  "winner": "BOLSONARO"
                },
                {
                  "index": 13,
                  "cidade": "ALVORADA",
                  "uf": "TO",
                  "error": 1633.6,
                  "aptos": 145289,
                  "pop": "8381",
                  "winner": "LULA"
                },
                {
                  "index": 14,
                  "cidade": "BOM JESUS",
                  "uf": "SC",
                  "error": 1228,
                  "aptos": 41220,
                  "pop": "3104",
                  "winner": "LULA"
                },
                {
                  "index": 15,
                  "cidade": "OURO BRANCO",
                  "uf": "RN",
                  "error": 832.7,
                  "aptos": 44893,
                  "pop": "4813",
                  "winner": "LULA"
                },
                {
                  "index": 16,
                  "cidade": "SANTA HELENA",
                  "uf": "SC",
                  "error": 791.2,
                  "aptos": 52161,
                  "pop": "5853",
                  "winner": "LULA"
                },
                {
                  "index": 17,
                  "cidade": "RUY BARBOSA",
                  "uf": "RN",
                  "error": 710.1,
                  "aptos": 29033,
                  "pop": "3584",
                  "winner": "LULA"
                },
                {
                  "index": 18,
                  "cidade": "ITAPEVA",
                  "uf": "SP",
                  "error": 706.3,
                  "aptos": 80436,
                  "pop": "9976",
                  "winner": "BOLSONARO"
                },
                {
                  "index": 19,
                  "cidade": "ITAMBÉ",
                  "uf": "PR",
                  "error": 703.1,
                  "aptos": 49067,
                  "pop": "6110",
                  "winner": "LULA"
                },
                {
                  "index": 20,
                  "cidade": "MIRADOR",
                  "uf": "PR",
                  "error": 698.2,
                  "aptos": 17400,
                  "pop": "2180",
                  "winner": "LULA"
                },
                {
                  "index": 21,
                  "cidade": "MUNDO NOVO",
                  "uf": "MS",
                  "error": 673.8,
                  "aptos": 35131,
                  "pop": "4540",
                  "winner": "LULA"
                },
                {
                  "index": 22,
                  "cidade": "DAVINÓPOLIS",
                  "uf": "MA",
                  "error": 657.6,
                  "aptos": 15864,
                  "pop": "2094",
                  "winner": "LULA"
                },
                {
                  "index": 23,
                  "cidade": "COLORADO",
                  "uf": "RS",
                  "error": 622.8,
                  "aptos": 22319,
                  "pop": "3088",
                  "winner": "BOLSONARO"
                },
                {
                  "index": 24,
                  "cidade": "PEDRA PRETA",
                  "uf": "RN",
                  "error": 620.7,
                  "aptos": 17433,
                  "pop": "2419",
                  "winner": "LULA"
                },
                {
                  "index": 25,
                  "cidade": "NAZARÉ",
                  "uf": "TO",
                  "error": 601.5,
                  "aptos": 26459,
                  "pop": "3772",
                  "winner": "LULA"
                },
                {
                  "index": 26,
                  "cidade": "BELMONTE",
                  "uf": "SC",
                  "error": 582.9,
                  "aptos": 18519,
                  "pop": "2712",
                  "winner": "LULA"
                },
                {
                  "index": 27,
                  "cidade": "WENCESLAU BRAZ",
                  "uf": "PR",
                  "error": 574.3,
                  "aptos": 17147,
                  "pop": "2543",
                  "winner": "BOLSONARO"
                },
                {
                  "index": 28,
                  "cidade": "SANTA CRUZ",
                  "uf": "RN",
                  "error": 567.7,
                  "aptos": 43926,
                  "pop": "6579",
                  "winner": "LULA"
                },
                {
                  "index": 29,
                  "cidade": "RIACHO DE SANTANA",
                  "uf": "RN",
                  "error": 564.7,
                  "aptos": 27878,
                  "pop": "4194",
                  "winner": "LULA"
                },
                {
                  "index": 30,
                  "cidade": "CANTAGALO",
                  "uf": "RJ",
                  "error": 531.6,
                  "aptos": 28896,
                  "pop": "4575",
                  "winner": "LULA"
                },
                {
                  "index": 31,
                  "cidade": "JACUTINGA",
                  "uf": "RS",
                  "error": 519.3,
                  "aptos": 21875,
                  "pop": "3532",
                  "winner": "BOLSONARO"
                },
                {
                  "index": 32,
                  "cidade": "PRATA",
                  "uf": "PB",
                  "error": 514.7,
                  "aptos": 26219,
                  "pop": "4265",
                  "winner": "LULA"
                },
                {
                  "index": 33,
                  "cidade": "RIO NEGRO",
                  "uf": "PR",
                  "error": 484.6,
                  "aptos": 27817,
                  "pop": "4758",
                  "winner": "BOLSONARO"
                },
                {
                  "index": 34,
                  "cidade": "SÃO PEDRO",
                  "uf": "SP",
                  "error": 464,
                  "aptos": 33216,
                  "pop": "5889",
                  "winner": "BOLSONARO"
                },
                {
                  "index": 35,
                  "cidade": "ALTO PARAÍSO",
                  "uf": "RO",
                  "error": 460.2,
                  "aptos": 14732,
                  "pop": "2630",
                  "winner": "BOLSONARO"
                },
                {
                  "index": 36,
                  "cidade": "CARAÚBAS",
                  "uf": "RN",
                  "error": 449.8,
                  "aptos": 23126,
                  "pop": "4206",
                  "winner": "LULA"
                },
                {
                  "index": 37,
                  "cidade": "NOVA AURORA",
                  "uf": "PR",
                  "error": 446.4,
                  "aptos": 12218,
                  "pop": "2236",
                  "winner": "BOLSONARO"
                },
                {
                  "index": 38,
                  "cidade": "INAJÁ",
                  "uf": "PR",
                  "error": 432.1,
                  "aptos": 16612,
                  "pop": "3122",
                  "winner": "LULA"
                },
                {
                  "index": 39,
                  "cidade": "RIACHÃO",
                  "uf": "PB",
                  "error": 430,
                  "aptos": 19344,
                  "pop": "3650",
                  "winner": "LULA"
                },
                {
                  "index": 40,
                  "cidade": "PETROLÂNDIA",
                  "uf": "SC",
                  "error": 423,
                  "aptos": 30718,
                  "pop": "5873",
                  "winner": "LULA"
                },
                {
                  "index": 41,
                  "cidade": "NOVA SANTA RITA",
                  "uf": "RS",
                  "error": 416.1,
                  "aptos": 22669,
                  "pop": "4392",
                  "winner": "LULA"
                },
                {
                  "index": 42,
                  "cidade": "ANCHIETA",
                  "uf": "SC",
                  "error": 402.7,
                  "aptos": 27532,
                  "pop": "5477",
                  "winner": "BOLSONARO"
                },
                {
                  "index": 43,
                  "cidade": "FÁTIMA",
                  "uf": "TO",
                  "error": 400,
                  "aptos": 19121,
                  "pop": "3824",
                  "winner": "LULA"
                },
                {
                  "index": 44,
                  "cidade": "BARAÚNA",
                  "uf": "RN",
                  "error": 397.2,
                  "aptos": 25024,
                  "pop": "5033",
                  "winner": "LULA"
                },
                {
                  "index": 45,
                  "cidade": "JUSSARA",
                  "uf": "PR",
                  "error": 376.8,
                  "aptos": 33705,
                  "pop": "7069",
                  "winner": "LULA"
                },
                {
                  "index": 46,
                  "cidade": "INDEPENDÊNCIA",
                  "uf": "RS",
                  "error": 350.4,
                  "aptos": 27270,
                  "pop": "6054",
                  "winner": "LULA"
                },
                {
                  "index": 47,
                  "cidade": "FLORESTA",
                  "uf": "PR",
                  "error": 344.6,
                  "aptos": 30792,
                  "pop": "6926",
                  "winner": "LULA"
                },
                {
                  "index": 48,
                  "cidade": "PALMAS",
                  "uf": "TO",
                  "error": 341.6,
                  "aptos": 231859,
                  "pop": "52503",
                  "winner": "BOLSONARO"
                },
                {
                  "index": 49,
                  "cidade": "AURORA",
                  "uf": "SC",
                  "error": 339.8,
                  "aptos": 25012,
                  "pop": "5687",
                  "winner": "LULA"
                },
                {
                  "index": 50,
                  "cidade": "PINHÃO",
                  "uf": "SE",
                  "error": 337.6,
                  "aptos": 29224,
                  "pop": "6678",
                  "winner": "LULA"
                },
                {
                  "index": 51,
                  "cidade": "NOVA OLINDA",
                  "uf": "TO",
                  "error": 330.7,
                  "aptos": 25379,
                  "pop": "5892",
                  "winner": "LULA"
                },
                {
                  "index": 52,
                  "cidade": "TRIUNFO",
                  "uf": "RS",
                  "error": 330.5,
                  "aptos": 40784,
                  "pop": "9473",
                  "winner": "LULA"
                },
                {
                  "index": 53,
                  "cidade": "FEIRA NOVA",
                  "uf": "SE",
                  "error": 330,
                  "aptos": 24152,
                  "pop": "5617",
                  "winner": "LULA"
                },
                {
                  "index": 54,
                  "cidade": "PLANALTO",
                  "uf": "SP",
                  "error": 329.8,
                  "aptos": 42795,
                  "pop": "9957",
                  "winner": "LULA"
                },
                {
                  "index": 55,
                  "cidade": "BANDEIRANTES",
                  "uf": "PR",
                  "error": 328.1,
                  "aptos": 31169,
                  "pop": "7281",
                  "winner": "BOLSONARO"
                },
                {
                  "index": 56,
                  "cidade": "APARECIDA",
                  "uf": "SP",
                  "error": 317.2,
                  "aptos": 35390,
                  "pop": "8482",
                  "winner": "BOLSONARO"
                },
                {
                  "index": 57,
                  "cidade": "PRESIDENTE JUSCELINO",
                  "uf": "MG",
                  "error": 312.4,
                  "aptos": 14731,
                  "pop": "3572",
                  "winner": "LULA"
                },
                {
                  "index": 58,
                  "cidade": "PRESIDENTE KENNEDY",
                  "uf": "TO",
                  "error": 306.8,
                  "aptos": 14922,
                  "pop": "3668",
                  "winner": "BOLSONARO"
                },
                {
                  "index": 59,
                  "cidade": "CASCAVEL",
                  "uf": "PR",
                  "error": 300.5,
                  "aptos": 291214,
                  "pop": "72706",
                  "winner": "BOLSONARO"
                }
              ]
            }
          },
          "metadata": {},
          "execution_count": 90
        }
      ]
    }
  ]
}